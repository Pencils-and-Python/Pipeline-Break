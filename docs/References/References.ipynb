{
 "cells": [
  {
   "cell_type": "code",
   "execution_count": null,
   "id": "initial_id",
   "metadata": {
    "collapsed": true
   },
   "outputs": [],
   "source": [
    ""
   ]
  },
  {
   "metadata": {},
   "cell_type": "markdown",
   "source": [
    "2022 Dataset:<br>\n",
    "City of Syracuse. (2025). Water Main Breaks (2022) [Data set]. City of Syracuse Open Data Portal. https://data.syr.gov/datasets/c8be66d9d53945edad5886e914418b68_0/about"
   ],
   "id": "8ec0105dea5888e3"
  },
  {
   "metadata": {},
   "cell_type": "markdown",
   "source": [
    "2004–2019 Dataset:\n",
    "\n",
    "City of Syracuse. (n.d.). Water main breaks 2004–2019 [Data set]. City of Syracuse Open Data Portal. https://data.syr.gov/datasets/47d50f8c4ab04a2f9602bd8c4a0d029f_0/explore?location=43.028601%2C-76.112694%2C12.47\n",
    "\n",
    "2021 Dataset:\n",
    "\n",
    "City of Syracuse. (n.d.). Water main breaks 2021 [Data set]. City of Syracuse Open Data Portal. https://data.syr.gov/datasets/878ca59054844cacac17919aa16f3bb4_0/explore?location=43.037441%2C-76.142026%2C12.66"
   ],
   "id": "8fec4a78cce67361"
  },
  {
   "metadata": {},
   "cell_type": "code",
   "outputs": [],
   "execution_count": null,
   "source": "",
   "id": "665dd86f12ece819"
  }
 ],
 "metadata": {
  "kernelspec": {
   "display_name": "Python 3",
   "language": "python",
   "name": "python3"
  },
  "language_info": {
   "codemirror_mode": {
    "name": "ipython",
    "version": 2
   },
   "file_extension": ".py",
   "mimetype": "text/x-python",
   "name": "python",
   "nbconvert_exporter": "python",
   "pygments_lexer": "ipython2",
   "version": "2.7.6"
  }
 },
 "nbformat": 4,
 "nbformat_minor": 5
}
