{
 "cells": [
  {
   "cell_type": "code",
   "execution_count": null,
   "id": "initial_id",
   "metadata": {
    "collapsed": true
   },
   "outputs": [],
   "source": [
    ""
   ]
  },
  {
   "metadata": {},
   "cell_type": "markdown",
   "source": [
    "# Data Ingestion\n",
    "- Load and inspect raw water main break datasets"
   ],
   "id": "152dcc390963993c"
  },
  {
   "metadata": {
    "ExecuteTime": {
     "end_time": "2025-05-11T21:02:15.245216Z",
     "start_time": "2025-05-11T21:02:14.522396Z"
    }
   },
   "cell_type": "code",
   "source": [
    "import pandas as pd\n",
    "import numpy as np\n",
    "import os"
   ],
   "id": "74f9515486e522d0",
   "outputs": [],
   "execution_count": 1
  },
  {
   "metadata": {
    "ExecuteTime": {
     "end_time": "2025-05-11T21:35:39.605132Z",
     "start_time": "2025-05-11T21:35:39.526544Z"
    }
   },
   "cell_type": "code",
   "source": [
    "breaks_2019 = pd.read_csv('../data/raw/wm_breaks_2004-2019.csv')\n",
    "breaks_2021 = pd.read_csv('../data/raw/wm_breaks_2021.csv')\n",
    "breaks_2022 = pd.read_csv('../data/raw/wm_breaks_2022.csv')\n",
    "\n",
    "print('2019 Breaks \\n',breaks_2019.head())\n",
    "print('\\n2021 Breaks \\n',breaks_2021.head())\n",
    "print('\\n2022 Breaks \\n',breaks_2022.head())"
   ],
   "id": "8a779376489dd6dd",
   "outputs": [
    {
     "name": "stdout",
     "output_type": "stream",
     "text": [
      "2019 Breaks \n",
      "               X             Y                fullDate                location  \\\n",
      "0 -8.479826e+06  5.319088e+06  2011/01/14 00:00:00+00       1205 W FAYETTE ST   \n",
      "1 -8.474632e+06  5.314544e+06  2011/01/14 00:00:00+00     1003 JAMESVILLE AVE   \n",
      "2 -8.478344e+06  5.316543e+06  2011/01/14 00:00:00+00  PALMER AVE & CHENEY ST   \n",
      "3 -8.472936e+06  5.319305e+06  2011/01/16 00:00:00+00       2100 E FAYETTE ST   \n",
      "4 -8.477195e+06  5.320761e+06  2011/01/17 00:00:00+00        206 BUTTERNUT ST   \n",
      "\n",
      "   leakClass  month  date  weekday    year  week        lon        lat  \\\n",
      "0          0    1.0  14.0      NaN  2011.0   2.0 -76.175575  43.046733   \n",
      "1          0    1.0  14.0      NaN  2011.0   2.0 -76.128918  43.016895   \n",
      "2          0    1.0  14.0      NaN  2011.0   2.0 -76.162257  43.030022   \n",
      "3          0    1.0  16.0      NaN  2011.0   3.0 -76.113683  43.048158   \n",
      "4          0    1.0  17.0      NaN  2011.0   3.0 -76.151936  43.057713   \n",
      "\n",
      "   ObjectId  \n",
      "0         1  \n",
      "1         2  \n",
      "2         3  \n",
      "3         4  \n",
      "4         5  \n",
      "\n",
      "2021 Breaks \n",
      "               X             Y  FID                      Location  \\\n",
      "0 -8.476177e+06  5.312236e+06    1  S. Salina St. & Orlando Ave.   \n",
      "1 -8.478042e+06  5.323412e+06    2          613 Second North St.   \n",
      "2 -8.475229e+06  5.319478e+06    3        1100 E. Washington St.   \n",
      "3 -8.474723e+06  5.319619e+06    4          Water St. & Pine St.   \n",
      "4 -8.479726e+06  5.321218e+06    5               401 Pulaski St.   \n",
      "\n",
      "                     Date       Work_Order  \n",
      "0  2021/01/02 00:00:00+00  Main Break/Leak  \n",
      "1  2021/01/05 00:00:00+00  Main Break/Leak  \n",
      "2  2021/01/06 00:00:00+00  Main Break/Leak  \n",
      "3  2021/01/07 00:00:00+00  Main Break/Leak  \n",
      "4  2021/01/07 00:00:00+00  Main Break/Leak  \n",
      "\n",
      "2022 Breaks \n",
      "    FID      Descriptio              Actual_Fin  \\\n",
      "0    1  EMERGENCY LEAK  12/18/2022 12:00:00 AM   \n",
      "1    2  EMERGENCY LEAK  12/17/2022 12:00:00 AM   \n",
      "2    3     REPAIR MAIN  12/16/2022 12:00:00 AM   \n",
      "3    4  EMERGENCY LEAK  12/13/2022 12:00:00 AM   \n",
      "4    5  EMERGENCY LEAK  12/10/2022 12:00:00 AM   \n",
      "\n",
      "                                             Address  \\\n",
      "0                       1315 S. STATE ST SYRACUSE NY   \n",
      "1        105 W Fayette St, Syracuse, New York, 13202   \n",
      "2                  Elmhurst Ave@Hunt Ave Syracuse NY   \n",
      "3  Meadowbrook Dr & Hillsboro Pkwy, Syracuse, New...   \n",
      "4       E. Fayette Street @ Croly Street Syracuse,NY   \n",
      "\n",
      "                                            Location             X  \\\n",
      "0                                    S STATE ST 1300 -8.476655e+06   \n",
      "1        105 W Fayette St, Syracuse, New York, 13202 -8.477280e+06   \n",
      "2                  Elmhurst Ave@Hunt Ave Syracuse NY -8.477617e+06   \n",
      "3  Meadowbrook Dr & Hillsboro Pkwy, Syracuse, New... -8.470687e+06   \n",
      "4                                  E FAYETTE ST 2100 -8.472832e+06   \n",
      "\n",
      "              Y            x2            y2  \n",
      "0  5.317287e+06 -8.476655e+06  5.317287e+06  \n",
      "1  5.319391e+06 -8.477280e+06  5.319391e+06  \n",
      "2  5.315161e+06 -8.477617e+06  5.315161e+06  \n",
      "3  5.318453e+06 -8.470687e+06  5.318453e+06  \n",
      "4  5.319314e+06 -8.472832e+06  5.319314e+06  \n"
     ]
    }
   ],
   "execution_count": 2
  },
  {
   "metadata": {},
   "cell_type": "code",
   "outputs": [],
   "execution_count": null,
   "source": "",
   "id": "58f41bc35eccd658"
  },
  {
   "metadata": {},
   "cell_type": "markdown",
   "source": [
    "## Data Exploration Assessment Upon Initial Data Ingestion\n",
    "- Data provided is missing columns of necessary information\n",
    "- Additionally, the data is not in a standardized format\n",
    "- Additional data columns will need to be added\n",
    "\n",
    "## Additional columns to be added\n",
    "- Unique ID\n",
    "- Description\n",
    "- Date\n",
    "- Full Date\n",
    "- Time\n",
    "- Location\n",
    "- x coord\n",
    "- y coord\n",
    "- Latitude\n",
    "- Longitude\n",
    "- leak type\n",
    "- leak class, work order, description\n",
    "- year, month, week day, week of year (all derived from date)\n",
    "\n",
    "## 🔍 External Data Sources to Enrich Pipe Break Modeling\n",
    "\n",
    "### 🔍 External Data Sources to Enrich Pipe Break Modeling\n",
    "\n",
    "| **Desired Info**        | **Purpose**                                       | **How to Get It**                                                |\n",
    "|-------------------------|----------------------------------------------------|------------------------------------------------------------------|\n",
    "| **Weather Data**        | Analyze correlation between freeze/thaw and breaks | [NOAA NCEI API](https://www.ncei.noaa.gov/support/access-data-service-api-user-documentation), [OpenWeatherMap API](https://openweathermap.org/api), [Weather Data from Visual Crossing](https://www.visualcrossing.com/weather-data) |\n",
    "| **Pipe Material / Age** | Assess infrastructure degradation risk             | City asset registry or utility department GIS (may require FOIA request or internal access) |\n",
    "| **Soil Type**           | Evaluate corrosiveness or movement-related stress  | [USGS SSURGO Database](https://www.nrcs.usda.gov/resources/data-and-reports/ssurgo), [USDA Web Soil Survey](https://websoilsurvey.sc.egov.usda.gov/App/HomePage.htm) |\n",
    "| **Road Classification** | Understand traffic loads over pipe infrastructure  | [TIGER/Line Shapefiles (U.S. Census)](https://www.census.gov/geographies/mapping-files/time-series/geo/tiger-line-file.html), [OpenStreetMap](https://download.geofabrik.de/) |\n",
    "| **Elevation**           | Analyze pressure-related strain in hilly areas     | [USGS National Map Viewer](https://apps.nationalmap.gov/viewer/), [NASA SRTM DEM Data](https://search.earthdata.nasa.gov/search) |\n",
    "| **Distance to Hydrant** | Model pressure/flow zones and response logistics   | Local utility GIS, hydrant layers (may be internal or via [Open Data portals](https://data.gov/)) |\n",
    "| **Land Use / Zoning**   | Evaluate industrial vs. residential stress levels  | [OpenStreetMap Land Use Layers](https://wiki.openstreetmap.org/wiki/Land_use), local planning department GIS portals |\n",
    "| **Repair Response Time**| Analyze service lag vs. damage severity            | Utility maintenance logs (typically internal or accessed via request) |\n"
   ],
   "id": "6af602bf267a2c95"
  },
  {
   "metadata": {},
   "cell_type": "code",
   "outputs": [],
   "execution_count": null,
   "source": "",
   "id": "77594bb87109020d"
  }
 ],
 "metadata": {
  "kernelspec": {
   "display_name": "Python 3",
   "language": "python",
   "name": "python3"
  },
  "language_info": {
   "codemirror_mode": {
    "name": "ipython",
    "version": 2
   },
   "file_extension": ".py",
   "mimetype": "text/x-python",
   "name": "python",
   "nbconvert_exporter": "python",
   "pygments_lexer": "ipython2",
   "version": "2.7.6"
  }
 },
 "nbformat": 4,
 "nbformat_minor": 5
}
